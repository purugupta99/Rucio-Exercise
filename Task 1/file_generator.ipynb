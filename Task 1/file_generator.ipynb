{
 "cells": [
  {
   "cell_type": "code",
   "execution_count": 1,
   "metadata": {},
   "outputs": [],
   "source": [
    "# Module Imports\n",
    "import random\n",
    "import string\n",
    "import os\n",
    "import hashlib"
   ]
  },
  {
   "cell_type": "code",
   "execution_count": 2,
   "metadata": {},
   "outputs": [],
   "source": [
    "# Configurable parameters\n",
    "\n",
    "num_files = 10\n",
    "num_bytes = 1048576"
   ]
  },
  {
   "cell_type": "code",
   "execution_count": 3,
   "metadata": {},
   "outputs": [],
   "source": [
    "# Creates output directory if it does not exist already\n",
    "\n",
    "if not os.path.exists('./output'):\n",
    "    os.makedirs('./output')"
   ]
  },
  {
   "cell_type": "code",
   "execution_count": 4,
   "metadata": {},
   "outputs": [],
   "source": [
    "def generate_string(): \n",
    "    ''' Generate a random string of size 5 containing alphabets and numbers '''\n",
    "    \n",
    "    name = ''.join(random.choices(string.ascii_uppercase + string.ascii_lowercase + string.digits, k=5))\n",
    "    return name"
   ]
  },
  {
   "cell_type": "code",
   "execution_count": 5,
   "metadata": {},
   "outputs": [],
   "source": [
    "def gen_files(num_files, num_bytes):\n",
    "    '''Create files with random number of bytes and random 5 charater name'''\n",
    "    \n",
    "    files = []\n",
    "    \n",
    "    for i in range(num_files):\n",
    "        filename = \"./output/\" + generate_string()\n",
    "        files.append(filename)\n",
    "        \n",
    "        with open(filename, 'wb') as fout:\n",
    "            fout.write(os.urandom(num_bytes))\n",
    "    \n",
    "    return files"
   ]
  },
  {
   "cell_type": "code",
   "execution_count": 6,
   "metadata": {},
   "outputs": [],
   "source": [
    "def get_md5(files):\n",
    "    ''' Calculates md5 checksum for all the txt files  '''\n",
    "    \n",
    "    md5_dictionary = {}\n",
    "\n",
    "    for file in files:\n",
    "        md5_dictionary[file] = hashlib.md5(open(file,'rb').read()).hexdigest()\n",
    "        \n",
    "    return md5_dictionary\n",
    "    "
   ]
  },
  {
   "cell_type": "code",
   "execution_count": 7,
   "metadata": {},
   "outputs": [],
   "source": [
    "# Writes <filename> <checksum> to the output.txt file\n",
    "\n",
    "files = gen_files(num_files, num_bytes)\n",
    "md5_dictionary = get_md5(files)\n",
    "\n",
    "with open('./output/output.txt', 'w') as fout:\n",
    "    for key, value in md5_dictionary.items():\n",
    "        \n",
    "        filename = key[key.find('/', 2) + 1 : ]\n",
    "        fout.write(filename + \" \" + value + \"\\n\")"
   ]
  }
 ],
 "metadata": {
  "kernelspec": {
   "display_name": "Python 3",
   "language": "python",
   "name": "python3"
  },
  "language_info": {
   "codemirror_mode": {
    "name": "ipython",
    "version": 3
   },
   "file_extension": ".py",
   "mimetype": "text/x-python",
   "name": "python",
   "nbconvert_exporter": "python",
   "pygments_lexer": "ipython3",
   "version": "3.6.8"
  }
 },
 "nbformat": 4,
 "nbformat_minor": 2
}
